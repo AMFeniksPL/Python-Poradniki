{
 "cells": [
  {
   "cell_type": "code",
   "execution_count": 5,
   "metadata": {},
   "outputs": [],
   "source": [
    "imie=\"Arek\"\n",
    "wiek = 24"
   ]
  },
  {
   "cell_type": "code",
   "execution_count": 2,
   "metadata": {},
   "outputs": [
    {
     "name": "stdout",
     "output_type": "stream",
     "text": [
      "Arek\n"
     ]
    }
   ],
   "source": [
    "print(imie)"
   ]
  },
  {
   "cell_type": "code",
   "execution_count": 6,
   "metadata": {},
   "outputs": [
    {
     "name": "stdout",
     "output_type": "stream",
     "text": [
      "48\n"
     ]
    }
   ],
   "source": [
    "print(wiek+wiek)"
   ]
  },
  {
   "cell_type": "code",
   "execution_count": 15,
   "metadata": {},
   "outputs": [
    {
     "name": "stdout",
     "output_type": "stream",
     "text": [
      "Podaj długość boku a: 100\n",
      "Podaj długość boku b: 200\n"
     ]
    }
   ],
   "source": [
    "import turtle\n",
    "turtle.reset()\n",
    "\n",
    "# zrób program, ktory robi kreske do przodu\n",
    "# zrób kwadrat\n",
    "\n",
    "a = float(input(\"Podaj długość boku a: \"))\n",
    "b = float(input(\"Podaj długość boku b: \"))\n",
    "\n",
    "turtle.forward(a)\n",
    "turtle.left(90)\n",
    "turtle.forward(b)\n",
    "turtle.left(90)\n",
    "turtle.forward(a)\n",
    "turtle.left(90)\n",
    "turtle.forward(b)\n",
    "turtle.left(90)\n",
    "\n",
    "# Zrób w podobny sposób równoległobok"
   ]
  },
  {
   "cell_type": "code",
   "execution_count": 16,
   "metadata": {},
   "outputs": [
    {
     "name": "stdout",
     "output_type": "stream",
     "text": [
      "Podaj długość boku a: 100\n",
      "Podaj długość boku b: 200\n",
      "Podaj kąt: 35\n"
     ]
    }
   ],
   "source": [
    "import turtle\n",
    "turtle.reset()\n",
    "\n",
    "# zrób program, ktory robi kreske do przodu\n",
    "# zrób kwadrat\n",
    "\n",
    "a = float(input(\"Podaj długość boku a: \"))\n",
    "b = float(input(\"Podaj długość boku b: \"))\n",
    "angle = float(input(\"Podaj kąt: \"))\n",
    "\n",
    "\n",
    "turtle.forward(a)\n",
    "turtle.left(angle)\n",
    "turtle.forward(b)\n",
    "turtle.left(180 - angle)\n",
    "turtle.forward(a)\n",
    "turtle.left(angle)\n",
    "turtle.forward(b)\n",
    "turtle.left(180 - angle)"
   ]
  },
  {
   "cell_type": "code",
   "execution_count": null,
   "metadata": {},
   "outputs": [],
   "source": []
  }
 ],
 "metadata": {
  "kernelspec": {
   "display_name": "Python 3",
   "language": "python",
   "name": "python3"
  },
  "language_info": {
   "codemirror_mode": {
    "name": "ipython",
    "version": 3
   },
   "file_extension": ".py",
   "mimetype": "text/x-python",
   "name": "python",
   "nbconvert_exporter": "python",
   "pygments_lexer": "ipython3",
   "version": "3.7.4"
  }
 },
 "nbformat": 4,
 "nbformat_minor": 2
}
